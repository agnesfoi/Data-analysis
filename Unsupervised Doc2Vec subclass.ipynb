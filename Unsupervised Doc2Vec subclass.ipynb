{
 "cells": [
  {
   "cell_type": "code",
   "execution_count": 2,
   "metadata": {},
   "outputs": [],
   "source": [
    "import pandas as pd\n",
    "import numpy as np\n",
    "\n",
    "import os\n",
    "import re\n",
    "import nltk\n",
    "#nltk.download('punkt')\n",
    "from nltk.stem import PorterStemmer\n",
    "from nltk.tokenize import word_tokenize\n",
    "#nltk.download()\n",
    "\n",
    "import tensorflow as tf\n",
    "import pickle\n",
    "os.chdir('NLP_for_onedrive')\n",
    "from NLP_function import * \n",
    "\n",
    "import gensim\n",
    "from gensim.models import Word2Vec\n",
    "from gensim.models.doc2vec import Doc2Vec, TaggedDocument\n",
    "\n",
    "from keras.preprocessing.text import text_to_word_sequence\n",
    "\n",
    "os.chdir('Not_In_Database')"
   ]
  },
  {
   "cell_type": "code",
   "execution_count": 193,
   "metadata": {},
   "outputs": [],
   "source": [
    "DF = pd.read_csv('unsupervised_learning/Training_data_final_ancenstral_HP_dense_cli_3.csv')\n",
    "\n",
    "# aggreagate into list\n",
    "\n",
    "df = DF.groupby('subclass', as_index=True)['merge'].aggregate(lambda x: list(x))\n",
    "df = pd.DataFrame(df).reset_index()\n",
    "df['merge'] = df['merge'].apply(lambda x: str(x))\n",
    "df['class_train'] =  df['subclass'] + df['merge']"
   ]
  },
  {
   "cell_type": "markdown",
   "metadata": {},
   "source": [
    "## Doc2Vec"
   ]
  },
  {
   "cell_type": "markdown",
   "metadata": {},
   "source": [
    "### Model train"
   ]
  },
  {
   "cell_type": "code",
   "execution_count": 196,
   "metadata": {
    "collapsed": true,
    "jupyter": {
     "outputs_hidden": true
    }
   },
   "outputs": [
    {
     "name": "stdout",
     "output_type": "stream",
     "text": [
      "iteration 0\n"
     ]
    },
    {
     "name": "stderr",
     "output_type": "stream",
     "text": [
      "C:\\Users\\Jingz\\anaconda3\\lib\\site-packages\\ipykernel_launcher.py:15: DeprecationWarning: Call to deprecated `iter` (Attribute will be removed in 4.0.0, use self.epochs instead).\n",
      "  from ipykernel import kernelapp as app\n"
     ]
    },
    {
     "name": "stdout",
     "output_type": "stream",
     "text": [
      "iteration 1\n",
      "iteration 2\n",
      "iteration 3\n",
      "iteration 4\n",
      "iteration 5\n",
      "iteration 6\n",
      "iteration 7\n",
      "iteration 8\n",
      "iteration 9\n",
      "iteration 10\n",
      "iteration 11\n",
      "iteration 12\n",
      "iteration 13\n",
      "iteration 14\n",
      "iteration 15\n",
      "iteration 16\n",
      "iteration 17\n",
      "iteration 18\n",
      "iteration 19\n",
      "iteration 20\n",
      "iteration 21\n",
      "iteration 22\n",
      "iteration 23\n",
      "iteration 24\n",
      "iteration 25\n",
      "iteration 26\n",
      "iteration 27\n",
      "iteration 28\n",
      "iteration 29\n",
      "iteration 30\n",
      "iteration 31\n",
      "iteration 32\n",
      "iteration 33\n",
      "iteration 34\n",
      "iteration 35\n",
      "iteration 36\n",
      "iteration 37\n",
      "iteration 38\n",
      "iteration 39\n",
      "iteration 40\n",
      "iteration 41\n",
      "iteration 42\n",
      "iteration 43\n",
      "iteration 44\n",
      "iteration 45\n",
      "iteration 46\n",
      "iteration 47\n",
      "iteration 48\n",
      "iteration 49\n",
      "iteration 50\n",
      "iteration 51\n",
      "iteration 52\n",
      "iteration 53\n",
      "iteration 54\n",
      "iteration 55\n",
      "iteration 56\n",
      "iteration 57\n",
      "iteration 58\n",
      "iteration 59\n",
      "iteration 60\n",
      "iteration 61\n",
      "iteration 62\n",
      "iteration 63\n",
      "iteration 64\n",
      "iteration 65\n",
      "iteration 66\n",
      "iteration 67\n",
      "iteration 68\n",
      "iteration 69\n",
      "iteration 70\n",
      "iteration 71\n",
      "iteration 72\n",
      "iteration 73\n",
      "iteration 74\n",
      "iteration 75\n",
      "iteration 76\n",
      "iteration 77\n",
      "iteration 78\n",
      "iteration 79\n",
      "iteration 80\n",
      "iteration 81\n",
      "iteration 82\n",
      "iteration 83\n",
      "iteration 84\n",
      "iteration 85\n",
      "iteration 86\n",
      "iteration 87\n",
      "iteration 88\n",
      "iteration 89\n",
      "iteration 90\n",
      "iteration 91\n",
      "iteration 92\n",
      "iteration 93\n",
      "iteration 94\n",
      "iteration 95\n",
      "iteration 96\n",
      "iteration 97\n",
      "iteration 98\n",
      "iteration 99\n",
      "Model Saved\n"
     ]
    }
   ],
   "source": [
    "# Tokenization for Doc2Vec\n",
    "\n",
    "X = [TaggedDocument(words=word_tokenize(_d.lower()), tags=[str(i)]) for i, _d in enumerate(df['class_train'])]\n",
    "model = Doc2Vec(vector_size=150, alpha=0.025, min_alpha=0.00025, min_count=1, dm =2) \n",
    "# dm=1‘distributed memory’ (PV-DM), preserves the word order; dm =0 ‘distributed bag of words’ (PV-DBOW).\n",
    "model.build_vocab(X)\n",
    "\n",
    "labels = pd.DataFrame(X)\n",
    "\n",
    "\n",
    "max_epochs = 100\n",
    "\n",
    "for epoch in range(max_epochs):\n",
    "    print('iteration {0}'.format(epoch))\n",
    "    model.train(X, total_examples=model.corpus_count, epochs=model.iter)\n",
    "    # decrease the learning rate\n",
    "    model.alpha -= 0.0002\n",
    "    # fix the learning rate, no decay\n",
    "    model.min_alpha = model.alpha\n",
    "\n",
    "model.save(\"M_Doc2Vec_BOW_25_hp_cli.model\")\n",
    "print(\"Model Saved\")"
   ]
  },
  {
   "cell_type": "markdown",
   "metadata": {},
   "source": [
    "### Prediction"
   ]
  },
  {
   "cell_type": "code",
   "execution_count": 197,
   "metadata": {},
   "outputs": [],
   "source": [
    "from gensim.models.doc2vec import Doc2Vec\n",
    "\n",
    "model= Doc2Vec.load(\"M_Doc2Vec_BOW_25_hp_cli.model\")\n",
    "\n",
    "cli = pd.read_csv('Training_data_final_ancenstral_HP_dense_2.csv')"
   ]
  },
  {
   "cell_type": "code",
   "execution_count": 198,
   "metadata": {},
   "outputs": [],
   "source": [
    "# remove class without information\n",
    "cli = cli.fillna('无')\n",
    "cli = cli[cli.y_cn!='无']\n",
    "cli = cli[cli.y_cn!='正常']\n",
    "\n",
    "cli = cli.drop_duplicates(subset='x_cn')\n",
    "cli['x_cn'] = cli['x_cn'].apply(lambda x : change_number(x,'cn'))\n",
    "cli = cli.reset_index(drop=True)\n",
    "tem = pd.DataFrame({'pheno': cli['x_cn'], 'pheno_y': cli['HP_ancenstors']})"
   ]
  },
  {
   "cell_type": "markdown",
   "metadata": {},
   "source": [
    "#### tokenization (top 3 most similar docs + top 5 terms search)"
   ]
  },
  {
   "cell_type": "code",
   "execution_count": 180,
   "metadata": {},
   "outputs": [],
   "source": [
    "# choose top n terms to show\n",
    "from translate import Translator\n",
    "translator = Translator(from_lang='zh', to_lang='en')\n",
    "topn = 10 "
   ]
  },
  {
   "cell_type": "code",
   "execution_count": null,
   "metadata": {},
   "outputs": [],
   "source": [
    "### tokenization\n",
    "\n",
    "i = random.randint(1, len(cli))\n",
    "# i = 2016\n",
    "print('row number is:', i)\n",
    "txt = tem.iloc[i]\n",
    "\n",
    "### find most similar doc using tags\n",
    "\n",
    "txt['pheno_en_tok'] = txt['sim'] = txt['vec'] = txt['pheno_en'] = txt['pheno']\n",
    "txt['pheno_en'] = translator.translate(txt['pheno'])\n",
    "#txt['pheno_en_tok'] = text_to_word_sequence(txt['pheno_en'])\n",
    "txt['vec']= word_tokenize(txt['pheno_en'].lower())\n",
    "txt['vec'] = model.infer_vector(txt['vec'])\n",
    "txt['sim'] = model.docvecs.most_similar([txt['vec']], topn = topn)\n",
    "print('pheno: '+ txt['pheno']+ '\\n' + 'pheno_en: '+ txt['pheno_en'] + '\\n'+ 'real class: ' + txt['pheno_y'])\n",
    "\n",
    "### predction class\n",
    "\n",
    "from keras.preprocessing.text import text_to_word_sequence\n",
    "from nltk.stem import WordNetLemmatizer\n",
    "lemmatizer = WordNetLemmatizer()\n",
    "\n",
    "### find vector of doc in hpo data using tags\n",
    "\n",
    "for a in range(len(txt['sim'])):\n",
    "        index = txt['sim'][a][0]\n",
    "        print('prediction', a, '[', df.loc[int(index)]['subclass'],']')"
   ]
  }
 ],
 "metadata": {
  "kernelspec": {
   "display_name": "Python 3",
   "language": "python",
   "name": "python3"
  },
  "language_info": {
   "codemirror_mode": {
    "name": "ipython",
    "version": 3
   },
   "file_extension": ".py",
   "mimetype": "text/x-python",
   "name": "python",
   "nbconvert_exporter": "python",
   "pygments_lexer": "ipython3",
   "version": "3.8.3"
  }
 },
 "nbformat": 4,
 "nbformat_minor": 4
}
